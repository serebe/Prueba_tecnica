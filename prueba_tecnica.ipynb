{
 "cells": [
  {
   "cell_type": "markdown",
   "metadata": {},
   "source": [
    "En caso de preguntas acerca de la metodologia y desarrollo:\n",
    "\n",
    "- **Nombre:** Sebastián Restrepo Betancúr([enviar mensaje](sebastia.restrepo.betancur@gmail.com))\n",
    "- **Departamento:** Nqui\n",
    "\n",
    "**NOTA:** Para acceder a las carpetas con el producto de datos final junto al video([Ingresar a carpeta](https://drive.google.com/drive/folders/1YQ0sIWWTrtdUkU40rrYxwiAQS8_YhOus?usp=drive_link))"
   ]
  },
  {
   "cell_type": "markdown",
   "metadata": {},
   "source": [
    "<center>\n",
    "    <img src=\"https://nuvei.com/wp-content/uploads/2021/06/nequi.png\" width=\"500\" alt=\"logo\" />\n",
    "</center>\n"
   ]
  },
  {
   "cell_type": "markdown",
   "metadata": {},
   "source": [
    "# Tabla de Contenidos\n",
    "\n",
    "<div class=\"alert alert-block alert-info\" style=\"margin-top: 20px\">\n",
    "\n",
    "1.  [Tabla de proyecto](#0)<br>\n",
    "2.  [Preguntas a resolver](#0)<br>\n",
    "3.  [Creación de entorno](#0)<br>\n",
    "4.  [Analisis basico y visualización](#0)<br>\n",
    "5.  [Procesos de ETL](#0)<br>\n",
    "6.  [Analisis y limpieza de datos](#0)<br>\n",
    "7.  [Propuesta producto de datos](#0)<br>\n",
    "</div>\n"
   ]
  },
  {
   "cell_type": "markdown",
   "metadata": {},
   "source": [
    "# Librerias necesarias"
   ]
  },
  {
   "cell_type": "code",
   "execution_count": 1,
   "metadata": {},
   "outputs": [
    {
     "data": {
      "text/html": [
       "\n",
       "    <center>\n",
       "    <button type=\"button\" class=\"btn btn-primary\" id=\"nombre1\" onclick=\"code_toggle('nombre1')\">Ocultar código</button>\n",
       "    </center>\n",
       "    <script>\n",
       "    function code_toggle(my_id) {\n",
       "        var p = $(\"#\"+my_id);\n",
       "        if (p.length==0) return;\n",
       "        while (!p.hasClass(\"cell\")) {\n",
       "            p = p.parent();\n",
       "            if (p.prop(\"tagName\") ==\"body\") return;\n",
       "        }\n",
       "    var cell_code = p.find(\".input\");\n",
       "    cell_code.toggle();\n",
       "    }\n",
       "    </script>\n",
       "    "
      ]
     },
     "metadata": {},
     "output_type": "display_data"
    }
   ],
   "source": [
    "# Bibliotecas extra:\n",
    "#!pip install IPython\n",
    "#!pip install plotly\n",
    "# Bibliotecas necesarios:\n",
    "import numpy as np # Para trabajar con vectores y matrices\n",
    "from matplotlib import pyplot as plt # Para graficar\n",
    "import pandas as pd # Para trabajar con bases de datos\n",
    "import seaborn as sns # Mejores Graficos\n",
    "from scipy import stats\n",
    "from pmdarima.arima import auto_arima\n",
    "from datetime import datetime\n",
    "# import plotly.express as px\n",
    "import plotly.graph_objects as go\n",
    "from statsmodels.tsa.arima.model import ARIMA\n",
    "from statsmodels.tsa.stattools import acf, pacf\n",
    "from statsmodels.graphics.tsaplots import plot_acf, plot_pacf\n",
    "from statsmodels.tsa.stattools import adfuller\n",
    "import statsmodels.formula.api as smf\n",
    "import patsy as dmatrix\n",
    "from statsmodels.tsa.arima.model import ARIMA\n",
    "from statsmodels.tsa.stattools import acf, pacf\n",
    "from statsmodels.graphics.tsaplots import plot_acf, plot_pacf\n",
    "from patsy import dmatrices, dmatrix, demo_data\n",
    "from statsmodels.tsa.stattools import adfuller\n",
    "import statsmodels.api as sm\n",
    "from IPython.display import display, HTML # Para varias salidas en data_frame y código\n",
    "from sklearn.ensemble import RandomForestClassifier\n",
    "from sklearn import metrics\n",
    "from sklearn.metrics import mean_squared_error\n",
    "from sklearn.metrics import mean_absolute_percentage_error\n",
    "import warnings\n",
    "import spark\n",
    "import pyspark\n",
    "from pyspark.sql.functions import col,isnan, when, count\n",
    "from pyspark.sql import SparkSession\n",
    "import pylab as pl\n",
    "plt.style.use('fivethirtyeight') # Para dar un estilo distinto a los gráficos\n",
    "# Funciones auxiliar: Permite esconder el codigo, Permite varias salidas DF/ No correr en VSC\n",
    "def Boton_auxiliar(button_id):\n",
    "    from IPython.display import display_html\n",
    "    my_html = '''\n",
    "    <center>\n",
    "    <button type=\"button\" class=\"btn btn-primary\" id=\"%s\" onclick=\"code_toggle('%s')\">Ocultar código</button>\n",
    "    </center>\n",
    "    <script>\n",
    "    function code_toggle(my_id) {\n",
    "        var p = $(\"#\"+my_id);\n",
    "        if (p.length==0) return;\n",
    "        while (!p.hasClass(\"cell\")) {\n",
    "            p = p.parent();\n",
    "            if (p.prop(\"tagName\") ==\"body\") return;\n",
    "        }\n",
    "    var cell_code = p.find(\".input\");\n",
    "    cell_code.toggle();\n",
    "    }\n",
    "    </script>\n",
    "    ''' %(button_id, button_id)\n",
    "    return display_html(my_html, raw=True)\n",
    "def salidas(dfs:list, captions:list):\n",
    "    \"\"\"Display tables side by side to save vertical space\n",
    "    Input:\n",
    "        dfs: list of pandas.DataFrame\n",
    "        captions: list of table captions\n",
    "    \"\"\"\n",
    "    output = \"\"\n",
    "    combined = dict(zip(captions, dfs))\n",
    "    for caption, df in combined.items():\n",
    "        output += df.style.set_table_attributes(\"style='display:inline'\").set_caption(caption)._repr_html_()\n",
    "        output += \"\\xa0\\xa0\\xa0\"\n",
    "    display(HTML(output))\n",
    "Boton_auxiliar(\"nombre1\")\n",
    "# Import SparkSession\n",
    "from pyspark.sql import SparkSession"
   ]
  },
  {
   "cell_type": "markdown",
   "metadata": {},
   "source": [
    "# Preguntas a resolver:"
   ]
  },
  {
   "cell_type": "markdown",
   "metadata": {},
   "source": [
    "# Creación de entorno:"
   ]
  },
  {
   "cell_type": "markdown",
   "metadata": {},
   "source": [
    "Inicializamos la sesion en spark, se trabajara en spark por la simplicidad que este posee para ser trabajado con grandes volumenes de datos a diferencia de pandas, ademas que tiene muy buena incorporación con modelos de mayor cuantia"
   ]
  },
  {
   "cell_type": "code",
   "execution_count": 21,
   "metadata": {},
   "outputs": [],
   "source": [
    "spark = SparkSession.builder \\\n",
    "    .master('local') \\\n",
    "    .appName('myAppName_2') \\\n",
    "    .config('spark.executor.memory', '5gb') \\\n",
    "    .config(\"spark.cores.max\", \"6\") \\\n",
    "    .getOrCreate()"
   ]
  },
  {
   "cell_type": "markdown",
   "metadata": {},
   "source": [
    "Lectura de las bases de datos"
   ]
  },
  {
   "cell_type": "code",
   "execution_count": 3,
   "metadata": {},
   "outputs": [],
   "source": [
    "df = spark.read.parquet('Bases_datos/sample_data_0006_part_00.parquet')\n",
    "df_2=spark.read.parquet('Bases_datos/sample_data_0007_part_00 (1).parquet')"
   ]
  },
  {
   "cell_type": "markdown",
   "metadata": {},
   "source": [
    "## Analisis Basico y visualización:"
   ]
  },
  {
   "cell_type": "markdown",
   "metadata": {},
   "source": [
    "Visualización de la tabla 1 para los primeros 5 registros:"
   ]
  },
  {
   "cell_type": "code",
   "execution_count": 4,
   "metadata": {},
   "outputs": [
    {
     "name": "stdout",
     "output_type": "stream",
     "text": [
      "+--------------------+--------------------+--------------------+-------------------+--------------------+--------------------+------------------+----------------+\n",
      "|         merchant_id|                 _id|          subsidiary|   transaction_date|      account_number|             user_id|transaction_amount|transaction_type|\n",
      "+--------------------+--------------------+--------------------+-------------------+--------------------+--------------------+------------------+----------------+\n",
      "|075d178871d8d4850...|aa8dacff663072244...|824b2af470cbe6a65...|2021-09-12 13:32:03|648e257c9d74909a1...|ba42d192a145583ba...|      178.33365037|         CREDITO|\n",
      "|075d178871d8d4850...|a53bb81bd0bba2ae2...|2d8d34be7509a6b12...|2021-09-12 13:31:58|c0b62f9046c83ea55...|5cfff960ea6d732c1...|       35.66673007|         CREDITO|\n",
      "|075d178871d8d4850...|79f893ea65c06fe29...|5eeb18254850b21af...|2021-09-12 13:31:56|872d10143fc0ac7d5...|c97e63a92c82c7217...|      142.66692029|         CREDITO|\n",
      "|075d178871d8d4850...|ce577223699dbdc11...|5221a599856c0a058...|2021-09-12 13:31:10|2e35cfe7860a480a9...|fc09bdd00f283222d...|        8.32223701|         CREDITO|\n",
      "|075d178871d8d4850...|0ce7ab2950e7a788a...|971e55ef12d80ec07...|2021-09-12 13:31:07|995bc89e4c4e00334...|213527e8ba94fcaf2...|       32.10005706|         CREDITO|\n",
      "+--------------------+--------------------+--------------------+-------------------+--------------------+--------------------+------------------+----------------+\n",
      "only showing top 5 rows\n",
      "\n"
     ]
    }
   ],
   "source": [
    "df.show(5)"
   ]
  },
  {
   "cell_type": "markdown",
   "metadata": {},
   "source": [
    "Vizualización de la tabla 2 para los primeros 5 registros:"
   ]
  },
  {
   "cell_type": "code",
   "execution_count": 5,
   "metadata": {},
   "outputs": [
    {
     "name": "stdout",
     "output_type": "stream",
     "text": [
      "+--------------------+--------------------+--------------------+-------------------+--------------------+--------------------+------------------+----------------+\n",
      "|         merchant_id|                 _id|          subsidiary|   transaction_date|      account_number|             user_id|transaction_amount|transaction_type|\n",
      "+--------------------+--------------------+--------------------+-------------------+--------------------+--------------------+------------------+----------------+\n",
      "|075d178871d8d4850...|1cccf3eb51fe9ae64...|7428212cf0193f799...|2021-09-12 13:19:00|dd8fdb4414156566f...|388f45f8132c73860...|      118.88910024|         CREDITO|\n",
      "|075d178871d8d4850...|b4bdd8e5ad6a2c299...|9d35d3b93eee57d56...|2021-09-12 13:18:54|7685f385afbbc08ac...|82dbd24adbfee4a4f...|       14.26669202|         CREDITO|\n",
      "|075d178871d8d4850...|1fdacd107a477eb26...|902a37737a1b16712...|2021-09-12 13:18:12|b59df7a42445e88ee...|ea9323f9e24171e47...|       23.77782004|         CREDITO|\n",
      "|075d178871d8d4850...|35361f739b78a6e7c...|2ee3801f0aabf6aea...|2021-09-12 13:17:53|3d7dc1ee1569a84c3...|3a1ce181693112fbd...|       95.11128019|         CREDITO|\n",
      "|075d178871d8d4850...|140a4c0c08b138580...|2d456210fc9bf17b0...|2021-09-12 13:17:53|465e7eec1c40395a4...|9e14417f4cd6f4b8d...|       23.77782004|         CREDITO|\n",
      "+--------------------+--------------------+--------------------+-------------------+--------------------+--------------------+------------------+----------------+\n",
      "only showing top 5 rows\n",
      "\n"
     ]
    }
   ],
   "source": [
    "df_2.show(5)"
   ]
  },
  {
   "cell_type": "markdown",
   "metadata": {},
   "source": [
    "Definimos el volumen de la información que se posee, el esquema de los datos que se tienen:"
   ]
  },
  {
   "cell_type": "code",
   "execution_count": 6,
   "metadata": {},
   "outputs": [
    {
     "name": "stdout",
     "output_type": "stream",
     "text": [
      "las dimensiones de las tablas son iguales a 10758500, 10758418\n"
     ]
    }
   ],
   "source": [
    "print(f'las dimensiones de las tablas son iguales a {df_2.count()}, {df.count()}')"
   ]
  },
  {
   "cell_type": "markdown",
   "metadata": {},
   "source": [
    "Esquema 1:"
   ]
  },
  {
   "cell_type": "code",
   "execution_count": 7,
   "metadata": {},
   "outputs": [
    {
     "name": "stdout",
     "output_type": "stream",
     "text": [
      "root\n",
      " |-- merchant_id: string (nullable = true)\n",
      " |-- _id: string (nullable = true)\n",
      " |-- subsidiary: string (nullable = true)\n",
      " |-- transaction_date: timestamp (nullable = true)\n",
      " |-- account_number: string (nullable = true)\n",
      " |-- user_id: string (nullable = true)\n",
      " |-- transaction_amount: decimal(24,8) (nullable = true)\n",
      " |-- transaction_type: string (nullable = true)\n",
      "\n"
     ]
    }
   ],
   "source": [
    "df.printSchema()"
   ]
  },
  {
   "cell_type": "markdown",
   "metadata": {},
   "source": [
    "Esquema 2:"
   ]
  },
  {
   "cell_type": "code",
   "execution_count": 8,
   "metadata": {},
   "outputs": [
    {
     "name": "stdout",
     "output_type": "stream",
     "text": [
      "root\n",
      " |-- merchant_id: string (nullable = true)\n",
      " |-- _id: string (nullable = true)\n",
      " |-- subsidiary: string (nullable = true)\n",
      " |-- transaction_date: timestamp (nullable = true)\n",
      " |-- account_number: string (nullable = true)\n",
      " |-- user_id: string (nullable = true)\n",
      " |-- transaction_amount: decimal(24,8) (nullable = true)\n",
      " |-- transaction_type: string (nullable = true)\n",
      "\n"
     ]
    }
   ],
   "source": [
    "df_2.printSchema()"
   ]
  },
  {
   "cell_type": "markdown",
   "metadata": {},
   "source": [
    "Dado que las dimensiones del archivo parquet es bastante grande se desarrollaran todos los modelos a partir de la libreria spark, primero importante mirar como es el comportamiento de las transacciones, ¿que tipos hay?, valores faltantes, procesos de ETL y analisis exploratorio simple con las categorias de manera univariada para despues pasar a entregar un producto"
   ]
  },
  {
   "cell_type": "markdown",
   "metadata": {},
   "source": [
    "# Procesos de ETL:"
   ]
  },
  {
   "cell_type": "markdown",
   "metadata": {},
   "source": [
    "Creamos bases temporales para ser trabajados en sql con la funcionalidad en spark:"
   ]
  },
  {
   "cell_type": "code",
   "execution_count": 9,
   "metadata": {},
   "outputs": [],
   "source": [
    "# Creación de archivo temporal para trabajar más rapidamente con sql\n",
    "df.createOrReplaceTempView(\"mi_tabla\")\n",
    "df_2.createOrReplaceTempView(\"mi_tabla_2\")"
   ]
  },
  {
   "cell_type": "markdown",
   "metadata": {},
   "source": [
    "Primero comparamos la cantidad de valores nulos en el dataframe, analizamos si se tienen que eliminar o hacer un preprocesamiento del mismo, esto por buenas practicas es lo mas recomendable en cualquier caso que se tenga como finalidad un producto de datos"
   ]
  },
  {
   "cell_type": "code",
   "execution_count": 10,
   "metadata": {},
   "outputs": [
    {
     "name": "stdout",
     "output_type": "stream",
     "text": [
      "+-----------+---+----------+--------------+-------+------------------+----------------+\n",
      "|merchant_id|_id|subsidiary|account_number|user_id|transaction_amount|transaction_type|\n",
      "+-----------+---+----------+--------------+-------+------------------+----------------+\n",
      "|          0|  0|         0|             0|      0|                 0|               0|\n",
      "+-----------+---+----------+--------------+-------+------------------+----------------+\n",
      "\n"
     ]
    }
   ],
   "source": [
    "# Primer dataset\n",
    "especial=['merchant_id','_id','subsidiary','account_number','user_id','transaction_amount','transaction_type']\n",
    "df.select([count(when(isnan(c) | col(c).isNull(), c)).alias(c) for c in especial]).show()"
   ]
  },
  {
   "cell_type": "code",
   "execution_count": 11,
   "metadata": {},
   "outputs": [
    {
     "name": "stdout",
     "output_type": "stream",
     "text": [
      "+-----------+---+----------+--------------+-------+------------------+----------------+\n",
      "|merchant_id|_id|subsidiary|account_number|user_id|transaction_amount|transaction_type|\n",
      "+-----------+---+----------+--------------+-------+------------------+----------------+\n",
      "|          0|  0|         0|             0|      0|                 0|               0|\n",
      "+-----------+---+----------+--------------+-------+------------------+----------------+\n",
      "\n"
     ]
    }
   ],
   "source": [
    "# Segundo dataset\n",
    "especial=['merchant_id','_id','subsidiary','account_number','user_id','transaction_amount','transaction_type']\n",
    "df_2.select([count(when(isnan(c) | col(c).isNull(), c)).alias(c) for c in especial]).show()"
   ]
  },
  {
   "cell_type": "markdown",
   "metadata": {},
   "source": [
    "Dado que esta limpio basta con partir la base de datos"
   ]
  },
  {
   "cell_type": "markdown",
   "metadata": {},
   "source": [
    "# Analisis y limpieza de datos:"
   ]
  },
  {
   "cell_type": "markdown",
   "metadata": {},
   "source": [
    "El siguiente sera un analisis previo de las bases, este sera mas extenso en en **power bi** que es la propuesta como producto final de datos, en esta parte solo se mostrara por tablas para un analisis mas profundo se acude a revisar los respectivos tableros, el siguiente solo sirve para poner en contexto cada aspecto de las dos tablas para despues pasar a un analisis posterior mas amplio, el siguiente abarca analisis univariado unicamente para ello revisar el excel:"
   ]
  },
  {
   "cell_type": "markdown",
   "metadata": {},
   "source": [
    "Cantidad de transacciones por tipo:"
   ]
  },
  {
   "cell_type": "code",
   "execution_count": 44,
   "metadata": {},
   "outputs": [
    {
     "data": {
      "text/html": [
       "<style type=\"text/css\">\n",
       "</style>\n",
       "<table id=\"T_b9d5d\" style='display:inline'>\n",
       "  <caption>transacciones por tipo tabla_1</caption>\n",
       "  <thead>\n",
       "    <tr>\n",
       "      <th class=\"blank level0\" >&nbsp;</th>\n",
       "      <th id=\"T_b9d5d_level0_col0\" class=\"col_heading level0 col0\" >transaction_type</th>\n",
       "      <th id=\"T_b9d5d_level0_col1\" class=\"col_heading level0 col1\" >count</th>\n",
       "    </tr>\n",
       "  </thead>\n",
       "  <tbody>\n",
       "    <tr>\n",
       "      <th id=\"T_b9d5d_level0_row0\" class=\"row_heading level0 row0\" >0</th>\n",
       "      <td id=\"T_b9d5d_row0_col0\" class=\"data row0 col0\" >DEBITO</td>\n",
       "      <td id=\"T_b9d5d_row0_col1\" class=\"data row0 col1\" >8591289</td>\n",
       "    </tr>\n",
       "    <tr>\n",
       "      <th id=\"T_b9d5d_level0_row1\" class=\"row_heading level0 row1\" >1</th>\n",
       "      <td id=\"T_b9d5d_row1_col0\" class=\"data row1 col0\" >CREDITO</td>\n",
       "      <td id=\"T_b9d5d_row1_col1\" class=\"data row1 col1\" >2167129</td>\n",
       "    </tr>\n",
       "  </tbody>\n",
       "</table>\n",
       "   <style type=\"text/css\">\n",
       "</style>\n",
       "<table id=\"T_c67ef\" style='display:inline'>\n",
       "  <caption>transacciones por tipo parte 2</caption>\n",
       "  <thead>\n",
       "    <tr>\n",
       "      <th class=\"blank level0\" >&nbsp;</th>\n",
       "      <th id=\"T_c67ef_level0_col0\" class=\"col_heading level0 col0\" >transaction_type</th>\n",
       "      <th id=\"T_c67ef_level0_col1\" class=\"col_heading level0 col1\" >count</th>\n",
       "    </tr>\n",
       "  </thead>\n",
       "  <tbody>\n",
       "    <tr>\n",
       "      <th id=\"T_c67ef_level0_row0\" class=\"row_heading level0 row0\" >0</th>\n",
       "      <td id=\"T_c67ef_row0_col0\" class=\"data row0 col0\" >DEBITO</td>\n",
       "      <td id=\"T_c67ef_row0_col1\" class=\"data row0 col1\" >8592438</td>\n",
       "    </tr>\n",
       "    <tr>\n",
       "      <th id=\"T_c67ef_level0_row1\" class=\"row_heading level0 row1\" >1</th>\n",
       "      <td id=\"T_c67ef_row1_col0\" class=\"data row1 col0\" >CREDITO</td>\n",
       "      <td id=\"T_c67ef_row1_col1\" class=\"data row1 col1\" >2166062</td>\n",
       "    </tr>\n",
       "  </tbody>\n",
       "</table>\n",
       "   "
      ],
      "text/plain": [
       "<IPython.core.display.HTML object>"
      ]
     },
     "metadata": {},
     "output_type": "display_data"
    }
   ],
   "source": [
    "tabla=df.groupBy('transaction_type').count().toPandas()\n",
    "tabla_2=df_2.groupBy('transaction_type').count().toPandas()\n",
    "salidas([tabla,tabla_2],['transacciones por tipo tabla_1','transacciones por tipo parte 2'])"
   ]
  },
  {
   "cell_type": "markdown",
   "metadata": {},
   "source": [
    "Conteo por sedes(Las primeras 20):"
   ]
  },
  {
   "cell_type": "code",
   "execution_count": 74,
   "metadata": {},
   "outputs": [
    {
     "data": {
      "text/html": [
       "<style type=\"text/css\">\n",
       "</style>\n",
       "<table id=\"T_06b93\" style='display:inline'>\n",
       "  <caption>sedes por tipo tabla_1</caption>\n",
       "  <thead>\n",
       "    <tr>\n",
       "      <th class=\"blank level0\" >&nbsp;</th>\n",
       "      <th id=\"T_06b93_level0_col0\" class=\"col_heading level0 col0\" >subsidiary</th>\n",
       "      <th id=\"T_06b93_level0_col1\" class=\"col_heading level0 col1\" >conteo_sedes</th>\n",
       "    </tr>\n",
       "  </thead>\n",
       "  <tbody>\n",
       "    <tr>\n",
       "      <th id=\"T_06b93_level0_row0\" class=\"row_heading level0 row0\" >0</th>\n",
       "      <td id=\"T_06b93_row0_col0\" class=\"data row0 col0\" >f54e0b6b32831a6307361ed959903e76</td>\n",
       "      <td id=\"T_06b93_row0_col1\" class=\"data row0 col1\" >357448</td>\n",
       "    </tr>\n",
       "    <tr>\n",
       "      <th id=\"T_06b93_level0_row1\" class=\"row_heading level0 row1\" >1</th>\n",
       "      <td id=\"T_06b93_row1_col0\" class=\"data row1 col0\" >8c52a2d7745e37bcee79717300f796e3</td>\n",
       "      <td id=\"T_06b93_row1_col1\" class=\"data row1 col1\" >170510</td>\n",
       "    </tr>\n",
       "    <tr>\n",
       "      <th id=\"T_06b93_level0_row2\" class=\"row_heading level0 row2\" >2</th>\n",
       "      <td id=\"T_06b93_row2_col0\" class=\"data row2 col0\" >d4b621a24cc03e3f92155a7e241fa1c3</td>\n",
       "      <td id=\"T_06b93_row2_col1\" class=\"data row2 col1\" >165438</td>\n",
       "    </tr>\n",
       "    <tr>\n",
       "      <th id=\"T_06b93_level0_row3\" class=\"row_heading level0 row3\" >3</th>\n",
       "      <td id=\"T_06b93_row3_col0\" class=\"data row3 col0\" >dff70ce33784a932ce4a7efc81a43863</td>\n",
       "      <td id=\"T_06b93_row3_col1\" class=\"data row3 col1\" >122420</td>\n",
       "    </tr>\n",
       "    <tr>\n",
       "      <th id=\"T_06b93_level0_row4\" class=\"row_heading level0 row4\" >4</th>\n",
       "      <td id=\"T_06b93_row4_col0\" class=\"data row4 col0\" >d4b31b123120a4eefd51ba95975f2ae4</td>\n",
       "      <td id=\"T_06b93_row4_col1\" class=\"data row4 col1\" >50786</td>\n",
       "    </tr>\n",
       "    <tr>\n",
       "      <th id=\"T_06b93_level0_row5\" class=\"row_heading level0 row5\" >5</th>\n",
       "      <td id=\"T_06b93_row5_col0\" class=\"data row5 col0\" >4ecafb5dcecd6027257e8af4d9c82853</td>\n",
       "      <td id=\"T_06b93_row5_col1\" class=\"data row5 col1\" >30557</td>\n",
       "    </tr>\n",
       "    <tr>\n",
       "      <th id=\"T_06b93_level0_row6\" class=\"row_heading level0 row6\" >6</th>\n",
       "      <td id=\"T_06b93_row6_col0\" class=\"data row6 col0\" >3458b243beebecf55605ca649b6b2ea5</td>\n",
       "      <td id=\"T_06b93_row6_col1\" class=\"data row6 col1\" >28389</td>\n",
       "    </tr>\n",
       "    <tr>\n",
       "      <th id=\"T_06b93_level0_row7\" class=\"row_heading level0 row7\" >7</th>\n",
       "      <td id=\"T_06b93_row7_col0\" class=\"data row7 col0\" >4f511a84e8c4b1c09991e0d876e880ce</td>\n",
       "      <td id=\"T_06b93_row7_col1\" class=\"data row7 col1\" >21967</td>\n",
       "    </tr>\n",
       "    <tr>\n",
       "      <th id=\"T_06b93_level0_row8\" class=\"row_heading level0 row8\" >8</th>\n",
       "      <td id=\"T_06b93_row8_col0\" class=\"data row8 col0\" >fee20d2f0753125f11b4376da5dbad4c</td>\n",
       "      <td id=\"T_06b93_row8_col1\" class=\"data row8 col1\" >21698</td>\n",
       "    </tr>\n",
       "    <tr>\n",
       "      <th id=\"T_06b93_level0_row9\" class=\"row_heading level0 row9\" >9</th>\n",
       "      <td id=\"T_06b93_row9_col0\" class=\"data row9 col0\" >464139dd69c67ebf50f2f946bc12513e</td>\n",
       "      <td id=\"T_06b93_row9_col1\" class=\"data row9 col1\" >15025</td>\n",
       "    </tr>\n",
       "    <tr>\n",
       "      <th id=\"T_06b93_level0_row10\" class=\"row_heading level0 row10\" >10</th>\n",
       "      <td id=\"T_06b93_row10_col0\" class=\"data row10 col0\" >7428212cf0193f799447ec0dfe53e4a0</td>\n",
       "      <td id=\"T_06b93_row10_col1\" class=\"data row10 col1\" >12909</td>\n",
       "    </tr>\n",
       "    <tr>\n",
       "      <th id=\"T_06b93_level0_row11\" class=\"row_heading level0 row11\" >11</th>\n",
       "      <td id=\"T_06b93_row11_col0\" class=\"data row11 col0\" >46023f3ae1b1e621d05d5029771d21df</td>\n",
       "      <td id=\"T_06b93_row11_col1\" class=\"data row11 col1\" >9659</td>\n",
       "    </tr>\n",
       "    <tr>\n",
       "      <th id=\"T_06b93_level0_row12\" class=\"row_heading level0 row12\" >12</th>\n",
       "      <td id=\"T_06b93_row12_col0\" class=\"data row12 col0\" >40d92864e9f2bfb038a41804045cd700</td>\n",
       "      <td id=\"T_06b93_row12_col1\" class=\"data row12 col1\" >8382</td>\n",
       "    </tr>\n",
       "    <tr>\n",
       "      <th id=\"T_06b93_level0_row13\" class=\"row_heading level0 row13\" >13</th>\n",
       "      <td id=\"T_06b93_row13_col0\" class=\"data row13 col0\" >2e11454166d41ab418ed1ddd020b1037</td>\n",
       "      <td id=\"T_06b93_row13_col1\" class=\"data row13 col1\" >7051</td>\n",
       "    </tr>\n",
       "    <tr>\n",
       "      <th id=\"T_06b93_level0_row14\" class=\"row_heading level0 row14\" >14</th>\n",
       "      <td id=\"T_06b93_row14_col0\" class=\"data row14 col0\" >06bb97fa70ba1f87e90b9e621f8562ac</td>\n",
       "      <td id=\"T_06b93_row14_col1\" class=\"data row14 col1\" >7044</td>\n",
       "    </tr>\n",
       "    <tr>\n",
       "      <th id=\"T_06b93_level0_row15\" class=\"row_heading level0 row15\" >15</th>\n",
       "      <td id=\"T_06b93_row15_col0\" class=\"data row15 col0\" >5e5470e357f200566c9fc2de8c1a1bb8</td>\n",
       "      <td id=\"T_06b93_row15_col1\" class=\"data row15 col1\" >6543</td>\n",
       "    </tr>\n",
       "    <tr>\n",
       "      <th id=\"T_06b93_level0_row16\" class=\"row_heading level0 row16\" >16</th>\n",
       "      <td id=\"T_06b93_row16_col0\" class=\"data row16 col0\" >32874117991a5bbf5e72d19347727f36</td>\n",
       "      <td id=\"T_06b93_row16_col1\" class=\"data row16 col1\" >6488</td>\n",
       "    </tr>\n",
       "    <tr>\n",
       "      <th id=\"T_06b93_level0_row17\" class=\"row_heading level0 row17\" >17</th>\n",
       "      <td id=\"T_06b93_row17_col0\" class=\"data row17 col0\" >137115f9c390fd9785cba71b2b078060</td>\n",
       "      <td id=\"T_06b93_row17_col1\" class=\"data row17 col1\" >6327</td>\n",
       "    </tr>\n",
       "    <tr>\n",
       "      <th id=\"T_06b93_level0_row18\" class=\"row_heading level0 row18\" >18</th>\n",
       "      <td id=\"T_06b93_row18_col0\" class=\"data row18 col0\" >6be467cc1f2227d56742e3f2b7848aae</td>\n",
       "      <td id=\"T_06b93_row18_col1\" class=\"data row18 col1\" >6247</td>\n",
       "    </tr>\n",
       "    <tr>\n",
       "      <th id=\"T_06b93_level0_row19\" class=\"row_heading level0 row19\" >19</th>\n",
       "      <td id=\"T_06b93_row19_col0\" class=\"data row19 col0\" >6d3dfadf4e1c47dfdf4f85943ef83167</td>\n",
       "      <td id=\"T_06b93_row19_col1\" class=\"data row19 col1\" >6056</td>\n",
       "    </tr>\n",
       "  </tbody>\n",
       "</table>\n",
       "   <style type=\"text/css\">\n",
       "</style>\n",
       "<table id=\"T_73b5d\" style='display:inline'>\n",
       "  <caption>Sedes por tipo parte 2</caption>\n",
       "  <thead>\n",
       "    <tr>\n",
       "      <th class=\"blank level0\" >&nbsp;</th>\n",
       "      <th id=\"T_73b5d_level0_col0\" class=\"col_heading level0 col0\" >subsidiary</th>\n",
       "      <th id=\"T_73b5d_level0_col1\" class=\"col_heading level0 col1\" >conteo_sedes</th>\n",
       "    </tr>\n",
       "  </thead>\n",
       "  <tbody>\n",
       "    <tr>\n",
       "      <th id=\"T_73b5d_level0_row0\" class=\"row_heading level0 row0\" >0</th>\n",
       "      <td id=\"T_73b5d_row0_col0\" class=\"data row0 col0\" >f54e0b6b32831a6307361ed959903e76</td>\n",
       "      <td id=\"T_73b5d_row0_col1\" class=\"data row0 col1\" >355350</td>\n",
       "    </tr>\n",
       "    <tr>\n",
       "      <th id=\"T_73b5d_level0_row1\" class=\"row_heading level0 row1\" >1</th>\n",
       "      <td id=\"T_73b5d_row1_col0\" class=\"data row1 col0\" >8c52a2d7745e37bcee79717300f796e3</td>\n",
       "      <td id=\"T_73b5d_row1_col1\" class=\"data row1 col1\" >171608</td>\n",
       "    </tr>\n",
       "    <tr>\n",
       "      <th id=\"T_73b5d_level0_row2\" class=\"row_heading level0 row2\" >2</th>\n",
       "      <td id=\"T_73b5d_row2_col0\" class=\"data row2 col0\" >d4b621a24cc03e3f92155a7e241fa1c3</td>\n",
       "      <td id=\"T_73b5d_row2_col1\" class=\"data row2 col1\" >165833</td>\n",
       "    </tr>\n",
       "    <tr>\n",
       "      <th id=\"T_73b5d_level0_row3\" class=\"row_heading level0 row3\" >3</th>\n",
       "      <td id=\"T_73b5d_row3_col0\" class=\"data row3 col0\" >dff70ce33784a932ce4a7efc81a43863</td>\n",
       "      <td id=\"T_73b5d_row3_col1\" class=\"data row3 col1\" >118155</td>\n",
       "    </tr>\n",
       "    <tr>\n",
       "      <th id=\"T_73b5d_level0_row4\" class=\"row_heading level0 row4\" >4</th>\n",
       "      <td id=\"T_73b5d_row4_col0\" class=\"data row4 col0\" >d4b31b123120a4eefd51ba95975f2ae4</td>\n",
       "      <td id=\"T_73b5d_row4_col1\" class=\"data row4 col1\" >50106</td>\n",
       "    </tr>\n",
       "    <tr>\n",
       "      <th id=\"T_73b5d_level0_row5\" class=\"row_heading level0 row5\" >5</th>\n",
       "      <td id=\"T_73b5d_row5_col0\" class=\"data row5 col0\" >4ecafb5dcecd6027257e8af4d9c82853</td>\n",
       "      <td id=\"T_73b5d_row5_col1\" class=\"data row5 col1\" >32994</td>\n",
       "    </tr>\n",
       "    <tr>\n",
       "      <th id=\"T_73b5d_level0_row6\" class=\"row_heading level0 row6\" >6</th>\n",
       "      <td id=\"T_73b5d_row6_col0\" class=\"data row6 col0\" >3458b243beebecf55605ca649b6b2ea5</td>\n",
       "      <td id=\"T_73b5d_row6_col1\" class=\"data row6 col1\" >28745</td>\n",
       "    </tr>\n",
       "    <tr>\n",
       "      <th id=\"T_73b5d_level0_row7\" class=\"row_heading level0 row7\" >7</th>\n",
       "      <td id=\"T_73b5d_row7_col0\" class=\"data row7 col0\" >fee20d2f0753125f11b4376da5dbad4c</td>\n",
       "      <td id=\"T_73b5d_row7_col1\" class=\"data row7 col1\" >22093</td>\n",
       "    </tr>\n",
       "    <tr>\n",
       "      <th id=\"T_73b5d_level0_row8\" class=\"row_heading level0 row8\" >8</th>\n",
       "      <td id=\"T_73b5d_row8_col0\" class=\"data row8 col0\" >4f511a84e8c4b1c09991e0d876e880ce</td>\n",
       "      <td id=\"T_73b5d_row8_col1\" class=\"data row8 col1\" >21539</td>\n",
       "    </tr>\n",
       "    <tr>\n",
       "      <th id=\"T_73b5d_level0_row9\" class=\"row_heading level0 row9\" >9</th>\n",
       "      <td id=\"T_73b5d_row9_col0\" class=\"data row9 col0\" >464139dd69c67ebf50f2f946bc12513e</td>\n",
       "      <td id=\"T_73b5d_row9_col1\" class=\"data row9 col1\" >15065</td>\n",
       "    </tr>\n",
       "    <tr>\n",
       "      <th id=\"T_73b5d_level0_row10\" class=\"row_heading level0 row10\" >10</th>\n",
       "      <td id=\"T_73b5d_row10_col0\" class=\"data row10 col0\" >7428212cf0193f799447ec0dfe53e4a0</td>\n",
       "      <td id=\"T_73b5d_row10_col1\" class=\"data row10 col1\" >12858</td>\n",
       "    </tr>\n",
       "    <tr>\n",
       "      <th id=\"T_73b5d_level0_row11\" class=\"row_heading level0 row11\" >11</th>\n",
       "      <td id=\"T_73b5d_row11_col0\" class=\"data row11 col0\" >46023f3ae1b1e621d05d5029771d21df</td>\n",
       "      <td id=\"T_73b5d_row11_col1\" class=\"data row11 col1\" >8566</td>\n",
       "    </tr>\n",
       "    <tr>\n",
       "      <th id=\"T_73b5d_level0_row12\" class=\"row_heading level0 row12\" >12</th>\n",
       "      <td id=\"T_73b5d_row12_col0\" class=\"data row12 col0\" >40d92864e9f2bfb038a41804045cd700</td>\n",
       "      <td id=\"T_73b5d_row12_col1\" class=\"data row12 col1\" >8505</td>\n",
       "    </tr>\n",
       "    <tr>\n",
       "      <th id=\"T_73b5d_level0_row13\" class=\"row_heading level0 row13\" >13</th>\n",
       "      <td id=\"T_73b5d_row13_col0\" class=\"data row13 col0\" >2e11454166d41ab418ed1ddd020b1037</td>\n",
       "      <td id=\"T_73b5d_row13_col1\" class=\"data row13 col1\" >7141</td>\n",
       "    </tr>\n",
       "    <tr>\n",
       "      <th id=\"T_73b5d_level0_row14\" class=\"row_heading level0 row14\" >14</th>\n",
       "      <td id=\"T_73b5d_row14_col0\" class=\"data row14 col0\" >06bb97fa70ba1f87e90b9e621f8562ac</td>\n",
       "      <td id=\"T_73b5d_row14_col1\" class=\"data row14 col1\" >7002</td>\n",
       "    </tr>\n",
       "    <tr>\n",
       "      <th id=\"T_73b5d_level0_row15\" class=\"row_heading level0 row15\" >15</th>\n",
       "      <td id=\"T_73b5d_row15_col0\" class=\"data row15 col0\" >5e5470e357f200566c9fc2de8c1a1bb8</td>\n",
       "      <td id=\"T_73b5d_row15_col1\" class=\"data row15 col1\" >6270</td>\n",
       "    </tr>\n",
       "    <tr>\n",
       "      <th id=\"T_73b5d_level0_row16\" class=\"row_heading level0 row16\" >16</th>\n",
       "      <td id=\"T_73b5d_row16_col0\" class=\"data row16 col0\" >32874117991a5bbf5e72d19347727f36</td>\n",
       "      <td id=\"T_73b5d_row16_col1\" class=\"data row16 col1\" >6222</td>\n",
       "    </tr>\n",
       "    <tr>\n",
       "      <th id=\"T_73b5d_level0_row17\" class=\"row_heading level0 row17\" >17</th>\n",
       "      <td id=\"T_73b5d_row17_col0\" class=\"data row17 col0\" >26fc3329f39941bbf09d141632b38833</td>\n",
       "      <td id=\"T_73b5d_row17_col1\" class=\"data row17 col1\" >6199</td>\n",
       "    </tr>\n",
       "    <tr>\n",
       "      <th id=\"T_73b5d_level0_row18\" class=\"row_heading level0 row18\" >18</th>\n",
       "      <td id=\"T_73b5d_row18_col0\" class=\"data row18 col0\" >6be467cc1f2227d56742e3f2b7848aae</td>\n",
       "      <td id=\"T_73b5d_row18_col1\" class=\"data row18 col1\" >6053</td>\n",
       "    </tr>\n",
       "    <tr>\n",
       "      <th id=\"T_73b5d_level0_row19\" class=\"row_heading level0 row19\" >19</th>\n",
       "      <td id=\"T_73b5d_row19_col0\" class=\"data row19 col0\" >137115f9c390fd9785cba71b2b078060</td>\n",
       "      <td id=\"T_73b5d_row19_col1\" class=\"data row19 col1\" >6005</td>\n",
       "    </tr>\n",
       "  </tbody>\n",
       "</table>\n",
       "   "
      ],
      "text/plain": [
       "<IPython.core.display.HTML object>"
      ]
     },
     "metadata": {},
     "output_type": "display_data"
    }
   ],
   "source": [
    "resultado=spark.sql('select subsidiary,count(*) as conteo_sedes from mi_tabla group by subsidiary order by conteo_sedes desc limit 20')\n",
    "resultado_2=spark.sql('select subsidiary,count(*) as conteo_sedes from mi_tabla_2 group by subsidiary order by conteo_sedes desc limit 20')\n",
    "salidas([resultado.toPandas(),resultado_2.toPandas()],['sedes por tipo tabla_1','Sedes por tipo tabla_2'])"
   ]
  },
  {
   "cell_type": "markdown",
   "metadata": {},
   "source": [
    "Conteo por comercios mas frecuentes:"
   ]
  },
  {
   "cell_type": "code",
   "execution_count": 75,
   "metadata": {},
   "outputs": [
    {
     "data": {
      "text/html": [
       "<style type=\"text/css\">\n",
       "</style>\n",
       "<table id=\"T_20105\" style='display:inline'>\n",
       "  <caption>aliado por tipo tabla_1</caption>\n",
       "  <thead>\n",
       "    <tr>\n",
       "      <th class=\"blank level0\" >&nbsp;</th>\n",
       "      <th id=\"T_20105_level0_col0\" class=\"col_heading level0 col0\" >merchant_id</th>\n",
       "      <th id=\"T_20105_level0_col1\" class=\"col_heading level0 col1\" >conteo_aliado</th>\n",
       "    </tr>\n",
       "  </thead>\n",
       "  <tbody>\n",
       "    <tr>\n",
       "      <th id=\"T_20105_level0_row0\" class=\"row_heading level0 row0\" >0</th>\n",
       "      <td id=\"T_20105_row0_col0\" class=\"data row0 col0\" >817d18cd3c31e40e9bff0566baae7758</td>\n",
       "      <td id=\"T_20105_row0_col1\" class=\"data row0 col1\" >7267100</td>\n",
       "    </tr>\n",
       "    <tr>\n",
       "      <th id=\"T_20105_level0_row1\" class=\"row_heading level0 row1\" >1</th>\n",
       "      <td id=\"T_20105_row1_col0\" class=\"data row1 col0\" >838a8fa992a4aa2fb5a0cf8b15b63755</td>\n",
       "      <td id=\"T_20105_row1_col1\" class=\"data row1 col1\" >1876700</td>\n",
       "    </tr>\n",
       "    <tr>\n",
       "      <th id=\"T_20105_level0_row2\" class=\"row_heading level0 row2\" >2</th>\n",
       "      <td id=\"T_20105_row2_col0\" class=\"data row2 col0\" >075d178871d8d48502bf1f54887e52fe</td>\n",
       "      <td id=\"T_20105_row2_col1\" class=\"data row2 col1\" >1614618</td>\n",
       "    </tr>\n",
       "  </tbody>\n",
       "</table>\n",
       "   <style type=\"text/css\">\n",
       "</style>\n",
       "<table id=\"T_83988\" style='display:inline'>\n",
       "  <caption>aliado por tipo tabla_2</caption>\n",
       "  <thead>\n",
       "    <tr>\n",
       "      <th class=\"blank level0\" >&nbsp;</th>\n",
       "      <th id=\"T_83988_level0_col0\" class=\"col_heading level0 col0\" >merchant_id</th>\n",
       "      <th id=\"T_83988_level0_col1\" class=\"col_heading level0 col1\" >conteo_aliado</th>\n",
       "    </tr>\n",
       "  </thead>\n",
       "  <tbody>\n",
       "    <tr>\n",
       "      <th id=\"T_83988_level0_row0\" class=\"row_heading level0 row0\" >0</th>\n",
       "      <td id=\"T_83988_row0_col0\" class=\"data row0 col0\" >817d18cd3c31e40e9bff0566baae7758</td>\n",
       "      <td id=\"T_83988_row0_col1\" class=\"data row0 col1\" >7267200</td>\n",
       "    </tr>\n",
       "    <tr>\n",
       "      <th id=\"T_83988_level0_row1\" class=\"row_heading level0 row1\" >1</th>\n",
       "      <td id=\"T_83988_row1_col0\" class=\"data row1 col0\" >838a8fa992a4aa2fb5a0cf8b15b63755</td>\n",
       "      <td id=\"T_83988_row1_col1\" class=\"data row1 col1\" >1876700</td>\n",
       "    </tr>\n",
       "    <tr>\n",
       "      <th id=\"T_83988_level0_row2\" class=\"row_heading level0 row2\" >2</th>\n",
       "      <td id=\"T_83988_row2_col0\" class=\"data row2 col0\" >075d178871d8d48502bf1f54887e52fe</td>\n",
       "      <td id=\"T_83988_row2_col1\" class=\"data row2 col1\" >1614600</td>\n",
       "    </tr>\n",
       "  </tbody>\n",
       "</table>\n",
       "   "
      ],
      "text/plain": [
       "<IPython.core.display.HTML object>"
      ]
     },
     "metadata": {},
     "output_type": "display_data"
    }
   ],
   "source": [
    "resultado=spark.sql('select merchant_id,count(*) as conteo_aliado from mi_tabla group by merchant_id order by conteo_aliado desc limit 20')\n",
    "resultado_2=spark.sql('select merchant_id,count(*) as conteo_aliado from mi_tabla_2 group by merchant_id order by conteo_aliado desc limit 20')\n",
    "salidas([resultado.toPandas(),resultado_2.toPandas()],['aliado por tipo tabla_1','aliado por tipo tabla_2'])"
   ]
  },
  {
   "cell_type": "markdown",
   "metadata": {},
   "source": [
    "# Propuesta producto de datos"
   ]
  },
  {
   "cell_type": "markdown",
   "metadata": {},
   "source": [
    "Para la solución basta con encontrar como mezclar los dos dataframes, de manera eficiente podemos hacerlo a continuación::"
   ]
  },
  {
   "cell_type": "code",
   "execution_count": 14,
   "metadata": {},
   "outputs": [
    {
     "name": "stdout",
     "output_type": "stream",
     "text": [
      "El data frame como resultado de los dos tiene un total de registros de 21516918\n"
     ]
    }
   ],
   "source": [
    "completo= df.union(df_2)\n",
    "print(f'El data frame como resultado de los dos tiene un total de registros de {completo.count()}')"
   ]
  },
  {
   "cell_type": "markdown",
   "metadata": {},
   "source": [
    "Creación de base temporal:"
   ]
  },
  {
   "cell_type": "code",
   "execution_count": 15,
   "metadata": {},
   "outputs": [],
   "source": [
    "completo.createOrReplaceTempView(\"alertas\")"
   ]
  },
  {
   "cell_type": "code",
   "execution_count": 16,
   "metadata": {},
   "outputs": [
    {
     "name": "stdout",
     "output_type": "stream",
     "text": [
      "+--------------------+--------------+-------------------------+-----------------+---------------+---------------+\n",
      "|   Cuenta_de_usuario|fecha_transado|cantidad_de_transacciones|cantidad_transada|minimo_transado|maximo_transado|\n",
      "+--------------------+--------------+-------------------------+-----------------+---------------+---------------+\n",
      "|71aa1651d9adc0b22...|      2021-2-7|                      414|    7775.26274294|     5.94445501|   261.55602054|\n",
      "|01c2e0350f7d77f40...|      2021-2-5|                      400|    2378.98040532|     5.94564390|     6.18223321|\n",
      "|5e674596af22a66e8...|      2021-2-7|                      399|    4564.84686882|     5.94445501|   143.14247669|\n",
      "|789c59c87fee33218...|     2021-1-29|                      394|    2368.27087599|     5.94445501|    15.45558303|\n",
      "|01c2e0350f7d77f40...|     2021-1-31|                      393|    2337.10528647|     5.94564390|     5.94802168|\n",
      "|04b054b61ff8cf57e...|     2021-1-31|                      385|    2291.52677156|     5.94445501|     6.04669963|\n",
      "|9341309e1ec9fedc4...|     2021-1-30|                      380|    2262.45957680|     5.94445501|     9.51112801|\n",
      "|4677a8b53fc1ef1e1...|     2021-2-12|                      372|    2280.88738735|     5.94445501|    34.47783907|\n",
      "|5e674596af22a66e8...|      2021-2-1|                      368|    4604.19797219|     5.94445501|    83.55525965|\n",
      "|ab2b8b5244e19c302...|     2021-2-10|                      347|    3252.94012558|     5.94802168|    44.94007989|\n",
      "|8888c2bad14ee7026...|     2021-2-16|                      342|    2063.91477948|     5.94445501|    36.85562107|\n",
      "|b6e8cbf66e94dba7b...|      2021-2-9|                      338|    2068.29703125|     5.94564390|    57.06676811|\n",
      "|5e674596af22a66e8...|     2021-2-10|                      337|    4010.27439433|     5.94445501|    59.44455012|\n",
      "|8796988fe01305c7f...|     2021-2-13|                      335|    3787.37635469|     5.94445501|    17.83693171|\n",
      "|87b205f26cc824c0c...|      2021-2-8|                      333|    2918.72740991|     5.94445501|    17.83336503|\n",
      "|66a2d6d1715551d19...|      2021-2-6|                      329|    1955.72569829|     5.94445501|     5.94445501|\n",
      "|e77fc30bb3bec8bf4...|     2021-1-24|                      327|    2823.33436224|     5.94445501|    65.57922769|\n",
      "|e77fc30bb3bec8bf4...|     2021-1-17|                      327|    3770.49053476|     5.94445501|    59.44455012|\n",
      "|5f43533a93aabda84...|      2021-2-9|                      325|    3715.28438151|     5.94445501|    29.72227506|\n",
      "|7fda354dbc3e684bf...|      2021-2-5|                      324|    1932.28671210|     5.94445501|    11.88891002|\n",
      "+--------------------+--------------+-------------------------+-----------------+---------------+---------------+\n",
      "only showing top 20 rows\n",
      "\n"
     ]
    }
   ],
   "source": [
    "nuevas=spark.sql(\"with t1 as (select *,cast(concat(YEAR(transaction_date),'-',month(transaction_date),'-',day(transaction_date)) as string) \\\n",
    "                 as fecha from alertas) \\\n",
    "                select user_id as Cuenta_de_usuario,fecha as fecha_transado,count(*) as cantidad_de_transacciones,sum(transaction_amount) as cantidad_transada,\\\n",
    "                min(transaction_amount) as minimo_transado,max(transaction_amount) as maximo_transado  from t1 \\\n",
    "                group by fecha_transado,Cuenta_de_usuario HAVING cantidad_de_transacciones > 1 order by cantidad_de_transacciones desc\")\n",
    "nuevas.show(20)"
   ]
  },
  {
   "cell_type": "markdown",
   "metadata": {},
   "source": [
    "Guardamos el nuevo dataset construido en un archivo parquet(Este es el que se consolida para pertenecer al tablero de alertas)"
   ]
  },
  {
   "cell_type": "code",
   "execution_count": 17,
   "metadata": {},
   "outputs": [
    {
     "name": "stdout",
     "output_type": "stream",
     "text": [
      "cantidad de registros con alertas 1959712\n"
     ]
    }
   ],
   "source": [
    "print(f'cantidad de registros con alertas {nuevas.count()}')"
   ]
  },
  {
   "cell_type": "markdown",
   "metadata": {},
   "source": [
    "Dadp que no son muchos registros se hara todo directamente en pandas ademas con el fin de mostrar algunos gráficos exploratorios"
   ]
  },
  {
   "cell_type": "code",
   "execution_count": 53,
   "metadata": {},
   "outputs": [],
   "source": [
    "# Lo ideal es hacerlo con hadoop por amenizar se hara todo desde pandas\n",
    "# aunque con un servidor externo sera mas facil como una servicio para guardar data sets\n",
    "# nuevas.write.mode(\"overwrite\").parquet(\"Bases_datos/archivo.parquet\")\n",
    "ejercicio=nuevas.toPandas()"
   ]
  },
  {
   "cell_type": "markdown",
   "metadata": {},
   "source": [
    "se guarda el archivo para su USO en el power bi"
   ]
  },
  {
   "cell_type": "code",
   "execution_count": 29,
   "metadata": {},
   "outputs": [],
   "source": [
    "ejercicio.to_csv('ejercicio.csv')"
   ]
  },
  {
   "cell_type": "markdown",
   "metadata": {},
   "source": [
    "Mostramos el analisis inicial"
   ]
  },
  {
   "cell_type": "code",
   "execution_count": 61,
   "metadata": {},
   "outputs": [
    {
     "data": {
      "text/html": [
       "<div>\n",
       "<style scoped>\n",
       "    .dataframe tbody tr th:only-of-type {\n",
       "        vertical-align: middle;\n",
       "    }\n",
       "\n",
       "    .dataframe tbody tr th {\n",
       "        vertical-align: top;\n",
       "    }\n",
       "\n",
       "    .dataframe thead th {\n",
       "        text-align: right;\n",
       "    }\n",
       "</style>\n",
       "<table border=\"1\" class=\"dataframe\">\n",
       "  <thead>\n",
       "    <tr style=\"text-align: right;\">\n",
       "      <th></th>\n",
       "      <th>Cuenta_de_usuario</th>\n",
       "      <th>fecha_transado</th>\n",
       "      <th>cantidad_de_transacciones</th>\n",
       "      <th>cantidad_transada</th>\n",
       "      <th>minimo_transado</th>\n",
       "      <th>maximo_transado</th>\n",
       "    </tr>\n",
       "  </thead>\n",
       "  <tbody>\n",
       "    <tr>\n",
       "      <th>0</th>\n",
       "      <td>71aa1651d9adc0b226107084fba3d71c</td>\n",
       "      <td>2021-2-7</td>\n",
       "      <td>414</td>\n",
       "      <td>7775.26274294</td>\n",
       "      <td>5.94445501</td>\n",
       "      <td>261.55602054</td>\n",
       "    </tr>\n",
       "    <tr>\n",
       "      <th>1</th>\n",
       "      <td>01c2e0350f7d77f4084502861b4989ff</td>\n",
       "      <td>2021-2-5</td>\n",
       "      <td>400</td>\n",
       "      <td>2378.98040532</td>\n",
       "      <td>5.94564390</td>\n",
       "      <td>6.18223321</td>\n",
       "    </tr>\n",
       "    <tr>\n",
       "      <th>2</th>\n",
       "      <td>5e674596af22a66e826bf15b2a363cce</td>\n",
       "      <td>2021-2-7</td>\n",
       "      <td>399</td>\n",
       "      <td>4564.84686882</td>\n",
       "      <td>5.94445501</td>\n",
       "      <td>143.14247669</td>\n",
       "    </tr>\n",
       "    <tr>\n",
       "      <th>3</th>\n",
       "      <td>789c59c87fee33218ac916dbece2ed4e</td>\n",
       "      <td>2021-1-29</td>\n",
       "      <td>394</td>\n",
       "      <td>2368.27087599</td>\n",
       "      <td>5.94445501</td>\n",
       "      <td>15.45558303</td>\n",
       "    </tr>\n",
       "    <tr>\n",
       "      <th>4</th>\n",
       "      <td>01c2e0350f7d77f4084502861b4989ff</td>\n",
       "      <td>2021-1-31</td>\n",
       "      <td>393</td>\n",
       "      <td>2337.10528647</td>\n",
       "      <td>5.94564390</td>\n",
       "      <td>5.94802168</td>\n",
       "    </tr>\n",
       "  </tbody>\n",
       "</table>\n",
       "</div>"
      ],
      "text/plain": [
       "                  Cuenta_de_usuario fecha_transado  cantidad_de_transacciones  \\\n",
       "0  71aa1651d9adc0b226107084fba3d71c       2021-2-7                        414   \n",
       "1  01c2e0350f7d77f4084502861b4989ff       2021-2-5                        400   \n",
       "2  5e674596af22a66e826bf15b2a363cce       2021-2-7                        399   \n",
       "3  789c59c87fee33218ac916dbece2ed4e      2021-1-29                        394   \n",
       "4  01c2e0350f7d77f4084502861b4989ff      2021-1-31                        393   \n",
       "\n",
       "  cantidad_transada minimo_transado maximo_transado  \n",
       "0     7775.26274294      5.94445501    261.55602054  \n",
       "1     2378.98040532      5.94564390      6.18223321  \n",
       "2     4564.84686882      5.94445501    143.14247669  \n",
       "3     2368.27087599      5.94445501     15.45558303  \n",
       "4     2337.10528647      5.94564390      5.94802168  "
      ]
     },
     "execution_count": 61,
     "metadata": {},
     "output_type": "execute_result"
    }
   ],
   "source": [
    "ejercicio.head()"
   ]
  },
  {
   "cell_type": "markdown",
   "metadata": {},
   "source": [
    "Se hace los respectivos gráficos exploratorios"
   ]
  },
  {
   "cell_type": "code",
   "execution_count": 68,
   "metadata": {},
   "outputs": [
    {
     "data": {
      "image/png": "[encoded data removed]",
      "text/plain": [
       "<Figure size 1000x800 with 4 Axes>"
      ]
     },
     "metadata": {},
     "output_type": "display_data"
    }
   ],
   "source": [
    "ejercicio['cantidad_transada']=ejercicio.cantidad_transada.astype('float')\n",
    "ejercicio['minimo_transado']=ejercicio.minimo_transado.astype('float')\n",
    "ejercicio['maximo_transado']=ejercicio.maximo_transado.astype('float')\n",
    "ejercicio['cantidad_de_transacciones']=ejercicio.cantidad_de_transacciones.astype('int')\n",
    "\n",
    "sns.set(style=\"whitegrid\")\n",
    "\n",
    "fig, axs = plt.subplots(2, 2, figsize=(10, 8))\n",
    "\n",
    "\n",
    "sns.histplot(ejercicio['cantidad_transada'], bins=100, kde=False, color='#4CAF50', ax=axs[0, 0])\n",
    "axs[0, 0].set_title('Histograma cantidad transada')\n",
    "axs[0, 0].set_xlim(0, 5000)\n",
    "\n",
    "sns.histplot(ejercicio['minimo_transado'], bins=100, kde=False, color='#FF5722', ax=axs[0, 1])\n",
    "axs[0, 1].set_title('Histograma minimo transado')\n",
    "axs[0, 1].set_xlim(0, 1400)\n",
    "\n",
    "sns.histplot(ejercicio['maximo_transado'], bins=100, kde=False, color='#2196F3', ax=axs[1, 0])\n",
    "axs[1, 0].set_title('Histograma maximo transado')\n",
    "axs[1, 0].set_xlim(0, 1400)\n",
    "\n",
    "sns.histplot(ejercicio['cantidad_de_transacciones'], bins=100, kde=False, color='#E91E63', ax=axs[1, 1])\n",
    "axs[1, 1].set_title('Histograma cantidad de transacciones')\n",
    "axs[1, 1].set_xlim(0, 415)\n",
    "\n",
    "plt.tight_layout()\n",
    "\n",
    "# Mostrar la figura\n",
    "plt.show()"
   ]
  },
  {
   "cell_type": "markdown",
   "metadata": {},
   "source": [
    "Cerrar entorno spark"
   ]
  },
  {
   "cell_type": "code",
   "execution_count": 76,
   "metadata": {},
   "outputs": [],
   "source": [
    "spark.stop()"
   ]
  }
 ],
 "metadata": {
  "kernelspec": {
   "display_name": "Python 3",
   "language": "python",
   "name": "python3"
  },
  "language_info": {
   "codemirror_mode": {
    "name": "ipython",
    "version": 3
   },
   "file_extension": ".py",
   "mimetype": "text/x-python",
   "name": "python",
   "nbconvert_exporter": "python",
   "pygments_lexer": "ipython3",
   "version": "3.9.13"
  },
  "orig_nbformat": 4
 },
 "nbformat": 4,
 "nbformat_minor": 2
}
